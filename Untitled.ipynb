{
 "cells": [
  {
   "cell_type": "code",
   "execution_count": 19,
   "id": "8ddd9dc8-f149-44ea-8a90-10255edebb90",
   "metadata": {},
   "outputs": [],
   "source": [
    "import pandas as pd\n",
    "import chardet"
   ]
  },
  {
   "cell_type": "code",
   "execution_count": 7,
   "id": "c964df9b-70f9-4b04-9c8c-29c1699dfa88",
   "metadata": {},
   "outputs": [],
   "source": [
    "# Caminho para o arquivo CSV\n",
    "caminho_arquivo = 'exemplo.csv'"
   ]
  },
  {
   "cell_type": "code",
   "execution_count": 35,
   "id": "0730d07e-cb80-4fc6-a503-d7e554e8931e",
   "metadata": {},
   "outputs": [],
   "source": [
    "# Detectar o encoding do arquivo CSV\n",
    "with open(caminho_arquivo, 'rb') as f:\n",
    "    result = chardet.detect(f.read())\n",
    "encoding = result['encoding']\n",
    "\n",
    "# Carregar o arquivo CSV em um DataFrame do pandas com encoding detectado\n",
    "df = pd.read_csv(caminho_arquivo, header=1, encoding=encoding, delimiter=';')"
   ]
  },
  {
   "cell_type": "code",
   "execution_count": 45,
   "id": "41e1da69-1c8e-4c35-a0a0-a9f6e262b0b8",
   "metadata": {},
   "outputs": [],
   "source": [
    "def determinar_tipo_de_dado(coluna):\n",
    "    tipos = set()\n",
    "    \n",
    "    # Verifica o tipo de cada valor na coluna\n",
    "    for valor in coluna:\n",
    "        tipo_valor = type(valor).__name__\n",
    "        tipos.add(tipo_valor)\n",
    "    \n",
    "    # Remove duplicados da variável tipos\n",
    "    tipos = list(tipos)  # Convertendo de set para list para preservar a ordem\n",
    "    tipos.sort()         # Ordenando a lista de tipos\n",
    "    \n",
    "    # Lógica para determinar o tipo predominante\n",
    "    if len(tipos) == 1:\n",
    "        return tipos[0]\n",
    "    elif 'float' in tipos or 'int' in tipos:\n",
    "        return 'numeric'\n",
    "    else:\n",
    "        return 'string'"
   ]
  },
  {
   "cell_type": "code",
   "execution_count": 47,
   "id": "6a699cf1-48b4-4f62-b700-4bebfa3aee0a",
   "metadata": {},
   "outputs": [
    {
     "name": "stdout",
     "output_type": "stream",
     "text": [
      "Tipos de dados das colunas:\n",
      "banana      str\n",
      "1           int\n",
      "1.5       float\n",
      "TRUE       bool\n",
      "dtype: object\n"
     ]
    }
   ],
   "source": [
    "# Determinar o tipo de dado de cada coluna no DataFrame\n",
    "tipos_de_dados = df.apply(determinar_tipo_de_dado)\n",
    "\n",
    "# Mostrar os tipos de dados encontrados\n",
    "print(\"Tipos de dados das colunas:\")\n",
    "print(tipos_de_dados)"
   ]
  }
 ],
 "metadata": {
  "kernelspec": {
   "display_name": "Python 3 (ipykernel)",
   "language": "python",
   "name": "python3"
  },
  "language_info": {
   "codemirror_mode": {
    "name": "ipython",
    "version": 3
   },
   "file_extension": ".py",
   "mimetype": "text/x-python",
   "name": "python",
   "nbconvert_exporter": "python",
   "pygments_lexer": "ipython3",
   "version": "3.11.7"
  }
 },
 "nbformat": 4,
 "nbformat_minor": 5
}
